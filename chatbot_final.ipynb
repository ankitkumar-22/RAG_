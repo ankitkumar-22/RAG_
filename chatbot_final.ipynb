{
 "cells": [
  {
   "cell_type": "code",
   "outputs": [],
   "source": [
    "from dotenv import load_dotenv\n",
    "import os\n",
    "load_dotenv()\n",
    "\n",
    "from langchain_groq import ChatGroq\n",
    "from langchain_core.prompts import ChatPromptTemplate, MessagesPlaceholder\n",
    "from langchain_community.chat_message_histories import ChatMessageHistory\n",
    "from langchain_core.runnables.history import RunnableWithMessageHistory\n",
    "from langchain_core.messages import HumanMessage\n",
    "from operator import itemgetter\n",
    "from langchain_core.messages.utils import trim_messages"
   ],
   "metadata": {
    "collapsed": false,
    "ExecuteTime": {
     "end_time": "2025-07-05T04:04:07.305355400Z",
     "start_time": "2025-07-05T04:04:07.257493900Z"
    }
   },
   "id": "bcbabe42bc23b089",
   "execution_count": 8
  },
  {
   "cell_type": "code",
   "outputs": [],
   "source": [
    "\n",
    "groq_api_key = os.getenv(\"GROQ_API_KEY\")\n",
    "from langchain_groq import ChatGroq\n",
    "model = ChatGroq(model=\"Gemma2-9b-It\", groq_api_key=groq_api_key)"
   ],
   "metadata": {
    "collapsed": false,
    "ExecuteTime": {
     "end_time": "2025-07-05T04:00:22.403273300Z",
     "start_time": "2025-07-05T04:00:21.756721900Z"
    }
   },
   "id": "f117f3fc8099bb0c",
   "execution_count": 2
  },
  {
   "cell_type": "code",
   "outputs": [],
   "source": [
    "# Store chat history\n",
    "store = {}\n",
    "def get_session_history(session_id: str):\n",
    "    if session_id not in store:\n",
    "        store[session_id] = ChatMessageHistory()\n",
    "    return store[session_id]\n"
   ],
   "metadata": {
    "collapsed": false,
    "ExecuteTime": {
     "end_time": "2025-07-05T04:00:22.411450900Z",
     "start_time": "2025-07-05T04:00:22.405493400Z"
    }
   },
   "id": "2198cd9eb55e5173",
   "execution_count": 3
  },
  {
   "cell_type": "code",
   "outputs": [],
   "source": [
    "# Define prompt template\n",
    "prompt = ChatPromptTemplate.from_messages([\n",
    "    (\"system\", \"You are a helpful and concise assistant. Answer based on the full conversation history.\"),\n",
    "    MessagesPlaceholder(variable_name=\"messages\"),\n",
    "    (\"human\", \"{input}\")\n",
    "])\n"
   ],
   "metadata": {
    "collapsed": false,
    "ExecuteTime": {
     "end_time": "2025-07-05T04:00:47.405184700Z",
     "start_time": "2025-07-05T04:00:47.395406700Z"
    }
   },
   "id": "1683ddb156b45f5c",
   "execution_count": 4
  },
  {
   "cell_type": "code",
   "outputs": [],
   "source": [
    "\n",
    "\n",
    "trimmer = trim_messages(\n",
    "    max_tokens=600,  # Adjusted slightly for demo, original was 45 which is very small\n",
    "    strategy=\"last\",\n",
    "    token_counter=model, # Uses the model's tokenizer for accurate counting\n",
    "    include_system=True,\n",
    "    allow_partial=False,\n",
    "    start_on=\"human\" # Start counting from the first human message\n",
    ")"
   ],
   "metadata": {
    "collapsed": false,
    "ExecuteTime": {
     "end_time": "2025-07-05T04:04:11.195972200Z",
     "start_time": "2025-07-05T04:04:11.161468200Z"
    }
   },
   "id": "383cdfe51525c76",
   "execution_count": 9
  },
  {
   "cell_type": "code",
   "outputs": [],
   "source": [
    "from langchain_core.runnables import RunnablePassthrough\n",
    "\n",
    "# Core chain (combines prompt and model)\n",
    "chain = (\n",
    "        RunnablePassthrough.assign( # Allows you to modify specific parts of the input\n",
    "            messages=itemgetter(\"messages\") | trimmer # Apply trimmer only to the 'messages' part\n",
    "        )\n",
    "        | prompt # Format the input according to the prompt template\n",
    "        | model # Send the formatted prompt to the AI model\n",
    ")\n"
   ],
   "metadata": {
    "collapsed": false,
    "ExecuteTime": {
     "end_time": "2025-07-05T04:07:34.731532400Z",
     "start_time": "2025-07-05T04:07:34.702467Z"
    }
   },
   "id": "3876d0a41b4000f6",
   "execution_count": 11
  },
  {
   "cell_type": "code",
   "outputs": [],
   "source": [
    "# Chain with memory\n",
    "final_chain = RunnableWithMessageHistory(\n",
    "    chain,\n",
    "    get_session_history,\n",
    "    input_messages_key=\"input\",\n",
    "    history_messages_key=\"messages\",\n",
    ")"
   ],
   "metadata": {
    "collapsed": false,
    "ExecuteTime": {
     "end_time": "2025-07-05T04:07:36.851656400Z",
     "start_time": "2025-07-05T04:07:36.828413600Z"
    }
   },
   "id": "c85f58eef565d9f",
   "execution_count": 12
  },
  {
   "cell_type": "code",
   "execution_count": 13,
   "id": "initial_id",
   "metadata": {
    "collapsed": true,
    "ExecuteTime": {
     "end_time": "2025-07-05T04:08:00.311359300Z",
     "start_time": "2025-07-05T04:07:39.395247500Z"
    }
   },
   "outputs": [
    {
     "name": "stdout",
     "output_type": "stream",
     "text": [
      "User: What is self-reflection?\n",
      "AI: Self-reflection is the process of thoughtfully considering your own thoughts, feelings, actions, and motivations. It involves examining your inner world and gaining a deeper understanding of yourself.  \n"
     ]
    },
    {
     "name": "stderr",
     "output_type": "stream",
     "text": [
      "None of PyTorch, TensorFlow >= 2.0, or Flax have been found. Models won't be available and only tokenizers, configuration and file/data utilities can be used.\n"
     ]
    },
    {
     "name": "stdout",
     "output_type": "stream",
     "text": [
      "User: What are a few ways to achieve that?\n",
      "AI: Here are a few ways to practice self-reflection:\n",
      "\n",
      "* **Journaling:** Regularly writing down your thoughts and feelings can help you identify patterns and gain clarity.\n",
      "* **Meditation:**  Focusing on your breath and observing your thoughts without judgment can increase self-awareness.\n",
      "* **Mindfulness:** Paying attention to the present moment and your experiences can help you understand your reactions and motivations.\n",
      "* **Asking for feedback:** Seeking honest opinions from trusted friends or mentors can offer valuable insights into your strengths and weaknesses.\n",
      "* **Reflecting on experiences:**  Taking time to analyze past events, both positive and negative, can help you learn and grow. \n",
      "\n",
      "\n",
      "\n",
      "Let me know if you'd like to explore any of these methods in more detail! \n",
      "\n",
      "User: Can you remind me what I asked first?\n",
      "AI: You first asked: \"What is self-reflection?\".  😊 \n"
     ]
    }
   ],
   "source": [
    "# --- Example Chat Session ---\n",
    "session_config = {\"configurable\": {\"session_id\": \"chat_alpha\"}}\n",
    "\n",
    "# First question\n",
    "response1 = final_chain.invoke(\n",
    "    {\"input\": \"What is self-reflection?\"},\n",
    "    config=session_config\n",
    ")\n",
    "print(f\"User: What is self-reflection?\\nAI: {response1.content}\\n\")\n",
    "\n",
    "# Follow-up\n",
    "response2 = final_chain.invoke(\n",
    "    {\"input\": \"What are a few ways to achieve that?\"},\n",
    "    config=session_config\n",
    ")\n",
    "print(f\"User: What are a few ways to achieve that?\\nAI: {response2.content}\\n\")\n",
    "\n",
    "# Memory test\n",
    "response3 = final_chain.invoke(\n",
    "    {\"input\": \"Can you remind me what I asked first?\"},\n",
    "    config=session_config\n",
    ")\n",
    "print(f\"User: Can you remind me what I asked first?\\nAI: {response3.content}\\n\")\n"
   ]
  },
  {
   "cell_type": "code",
   "outputs": [
    {
     "name": "stdout",
     "output_type": "stream",
     "text": [
      "User:You did mention a few ways to achieve self reflection can you expand more on those topics \n",
      " AI: content=\"You got it! Let's dive deeper into those self-reflection techniques:\\n\\n**1. Journaling:**\\n\\n* **How:** Set aside a specific time each day (even 5-10 minutes) to write freely.  Don't worry about grammar or structure, just let your thoughts flow. \\n* **What to write about:**\\n    * Your daily experiences, both big and small.\\n    * Your feelings and emotions, exploring what triggered them.\\n    * Your thoughts about specific situations or challenges.\\n    * Your goals and aspirations, reflecting on your progress.\\n    * Anything else that comes to mind.\\n\\n* **Benefits:** Journaling helps you process emotions, identify patterns in your thinking, and gain clarity on your values and beliefs.\\n\\n**2. Meditation:**\\n\\n* **How:** Find a quiet space, sit comfortably, and focus on your breath. When your mind wanders (and it will!), gently bring your attention back to your breath. There are many guided meditation apps and resources available if you'd like assistance.\\n* **Benefits:** Meditation cultivates self-awareness, reduces stress, and improves emotional regulation.\\n\\n**3. Mindfulness:**\\n\\n* **How:** Practice paying attention to the present moment without judgment. Notice your senses—what do you see, hear, smell, taste, and touch? Be aware of your thoughts and feelings without getting carried away by them.\\n* **Benefits:** Mindfulness increases your ability to be present, appreciate the small things, and respond to challenges with greater awareness.\\n\\n**4. Asking for Feedback:**\\n\\n* **How:** Choose trusted individuals (friends, family, mentors) who know you well. Ask them for honest feedback on your strengths, weaknesses, and areas for growth. Be open to hearing their perspectives, even if they are challenging.\\n* **Benefits:** Feedback from others can provide valuable insights that you might not be aware of on your own. It can help you identify blind spots and areas where you can improve.\\n\\n**5. Reflecting on Experiences:**\\n\\n* **How:** After significant events (positive or negative), take time to process them. Consider what happened, how you felt, what you learned, and how you can apply those lessons to future situations.\\n* **Benefits:** Reflecting on experiences helps you learn from your past, grow emotionally, and develop greater resilience.\\n\\n\\n\\n\\nRemember, self-reflection is a journey, not a destination. Be patient with yourself, and celebrate your progress along the way!\\n\" additional_kwargs={} response_metadata={'token_usage': {'completion_tokens': 516, 'prompt_tokens': 301, 'total_tokens': 817, 'completion_time': 0.938181818, 'prompt_time': 0.014081656, 'queue_time': 0.249040861, 'total_time': 0.952263474}, 'model_name': 'Gemma2-9b-It', 'system_fingerprint': 'fp_10c08bf97d', 'finish_reason': 'stop', 'logprobs': None} id='run--d87cce0d-1842-4c3e-8acb-881d5e02dbe1-0' usage_metadata={'input_tokens': 301, 'output_tokens': 516, 'total_tokens': 817} \n"
     ]
    }
   ],
   "source": [
    "response4 = final_chain.invoke(\n",
    "    {\"input\" : \"You did mention a few ways to achieve self reflection can you expand more on those topics\"},\n",
    "    config=session_config\n",
    ")\n",
    "print(f\"User:You did mention a few ways to achieve self reflection can you expand more on those topics \\n AI: {response4} \\n\")"
   ],
   "metadata": {
    "collapsed": false,
    "ExecuteTime": {
     "end_time": "2025-07-05T04:10:41.789222900Z",
     "start_time": "2025-07-05T04:10:40.023300900Z"
    }
   },
   "id": "29e2a04e3bf1f038",
   "execution_count": 14
  }
 ],
 "metadata": {
  "kernelspec": {
   "display_name": "Python 3",
   "language": "python",
   "name": "python3"
  },
  "language_info": {
   "codemirror_mode": {
    "name": "ipython",
    "version": 2
   },
   "file_extension": ".py",
   "mimetype": "text/x-python",
   "name": "python",
   "nbconvert_exporter": "python",
   "pygments_lexer": "ipython2",
   "version": "2.7.6"
  }
 },
 "nbformat": 4,
 "nbformat_minor": 5
}
